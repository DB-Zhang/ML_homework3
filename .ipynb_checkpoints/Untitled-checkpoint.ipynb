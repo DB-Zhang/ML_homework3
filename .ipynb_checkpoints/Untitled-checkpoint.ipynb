{
 "cells": [
  {
   "cell_type": "markdown",
   "metadata": {
    "toc": true
   },
   "source": [
    "<h1>Table of Contents<span class=\"tocSkip\"></span></h1>\n",
    "<div class=\"toc\"><ul class=\"toc-item\"></ul></div>"
   ]
  },
  {
   "cell_type": "code",
   "execution_count": 1,
   "metadata": {},
   "outputs": [],
   "source": [
    "import numpy as np\n",
    "import pandas as pd\n",
    "import matplotlib.pyplot as plt\n",
    "import random\n",
    "from sklearn import preprocessing\n",
    "from torch.utils.data import DataLoader\n",
    "from torch import autograd, optim\n",
    "from torchvision.transforms import transforms\n",
    "import csv\n",
    "import torchvision\n",
    "import matplotlib.pyplot as plt\n",
    "from tqdm import tqdm\n",
    "from sklearn import datasets\n",
    "from sklearn.model_selection import KFold,StratifiedKFold,train_test_split"
   ]
  },
  {
   "cell_type": "code",
   "execution_count": null,
   "metadata": {},
   "outputs": [],
   "source": []
  },
  {
   "cell_type": "code",
   "execution_count": null,
   "metadata": {},
   "outputs": [],
   "source": []
  },
  {
   "cell_type": "code",
   "execution_count": 3,
   "metadata": {},
   "outputs": [],
   "source": [
    "def getWaterMelonOneHot(pandascsv, rate=0.8, shuffle=True):\n",
    "    if shuffle:\n",
    "        tmp_data = pandascsv.sample(frac=1).reset_index(drop=True)\n",
    "    else:\n",
    "        tmp_data = pandascsv\n",
    "    tmp_data = pd.get_dummies(tmp_data)\n",
    "    tmp_data = tmp_data.drop(['编号','好瓜_否'],axis=1)\n",
    "    \n",
    "    shape = tmp_data.shape\n",
    "    \n",
    "#     print(int(shape[0]*rate))\n",
    "    trainset = np.array(tmp_data[:int(shape[0]*rate)],dtype=np.float32)\n",
    "    testset = np.array(tmp_data[int(shape[0]*rate):],dtype=np.float32)\n",
    "    \n",
    "    trainset_x = trainset[:,:-1]\n",
    "    trainset_y = trainset[:,-1:]\n",
    "    \n",
    "    testset_x = testset[:,:-1]\n",
    "    testset_y = testset[:,-1:]\n",
    "    \n",
    "    trainset = (trainset_x,trainset_y)\n",
    "    testset = (testset_x,testset_y)\n",
    "    \n",
    "    return trainset, testset\n",
    "\n",
    "\n",
    "def getWaterMelonDe(pandascsv, rate=0.8, shuffle=True):\n",
    "    if shuffle:\n",
    "        tmp_data = pandascsv.sample(frac=1).reset_index(drop=True)\n",
    "    else:\n",
    "        tmp_data = pandascsv\n",
    "    \n",
    "    tmp_data = tmp_data.drop(['编号','密度','含糖率'],axis=1)\n",
    "    \n",
    "    shape = tmp_data.shape\n",
    "    \n",
    "# #     print(int(shape[0]*rate))\n",
    "#     trainset = np.array(tmp_data[:int(shape[0]*rate)],dtype=np.float32)\n",
    "#     testset = np.array(tmp_data[int(shape[0]*rate):],dtype=np.float32)\n",
    "    \n",
    "#     trainset_x = trainset[:,:-1]\n",
    "#     trainset_y = trainset[:,-1:]\n",
    "    \n",
    "#     testset_x = testset[:,:-1]\n",
    "#     testset_y = testset[:,-1:]\n",
    "    \n",
    "#     trainset = (trainset_x,trainset_y)\n",
    "#     testset = (testset_x,testset_y)\n",
    "    trainset = tmp_data[:int(shape[0]*rate)]\n",
    "    testset = tmp_data[int(shape[0]*rate):]\n",
    "    \n",
    "    return trainset,testset\n",
    "\n",
    "def getMnistData():\n",
    "    x_transforms = transforms.Compose([\n",
    "        transforms.ToTensor(),\n",
    "        transforms.Normalize([0.5], [0.5])\n",
    "    ])\n",
    "    train_dataset = torchvision.datasets.MNIST('mnist', train=True, transform=x_transforms, download=False)\n",
    "    test_dataset = torchvision.datasets.MNIST('mnist', train=False, transform=x_transforms, download=False)\n",
    "    \n",
    "    return train_dataset,test_dataset"
   ]
  },
  {
   "cell_type": "code",
   "execution_count": 3,
   "metadata": {},
   "outputs": [],
   "source": [
    "def compute_squared(X):\n",
    "    X = X.T\n",
    "    m,n = X.shape\n",
    "    G = np.dot(X.T, X)\n",
    "    H = np.tile(np.diag(G), (n,1))\n",
    "    return (H + H.T - 2*G).T"
   ]
  },
  {
   "cell_type": "code",
   "execution_count": 4,
   "metadata": {},
   "outputs": [],
   "source": [
    "watermalon = pd.read_csv(\"watermalon.csv\",engine=\"python\")\n",
    "trainset, testset = getWaterMelonOneHot(watermalon)\n",
    "trainset_x, trainset_y = trainset\n",
    "testset_x, testset_y = testset\n",
    "Set,_ = getWaterMelonOneHot(watermalon,rate=1)\n",
    "Data_watermelon, Label_watermelon = Set"
   ]
  },
  {
   "cell_type": "code",
   "execution_count": 242,
   "metadata": {},
   "outputs": [
    {
     "data": {
      "text/html": [
       "<div>\n",
       "<style scoped>\n",
       "    .dataframe tbody tr th:only-of-type {\n",
       "        vertical-align: middle;\n",
       "    }\n",
       "\n",
       "    .dataframe tbody tr th {\n",
       "        vertical-align: top;\n",
       "    }\n",
       "\n",
       "    .dataframe thead th {\n",
       "        text-align: right;\n",
       "    }\n",
       "</style>\n",
       "<table border=\"1\" class=\"dataframe\">\n",
       "  <thead>\n",
       "    <tr style=\"text-align: right;\">\n",
       "      <th></th>\n",
       "      <th>编号</th>\n",
       "      <th>色泽</th>\n",
       "      <th>根蒂</th>\n",
       "      <th>敲声</th>\n",
       "      <th>纹理</th>\n",
       "      <th>脐部</th>\n",
       "      <th>触感</th>\n",
       "      <th>密度</th>\n",
       "      <th>含糖率</th>\n",
       "      <th>好瓜</th>\n",
       "    </tr>\n",
       "  </thead>\n",
       "  <tbody>\n",
       "    <tr>\n",
       "      <th>0</th>\n",
       "      <td>1</td>\n",
       "      <td>青绿</td>\n",
       "      <td>蜷缩</td>\n",
       "      <td>浊响</td>\n",
       "      <td>清晰</td>\n",
       "      <td>凹陷</td>\n",
       "      <td>硬滑</td>\n",
       "      <td>0.697</td>\n",
       "      <td>0.460</td>\n",
       "      <td>是</td>\n",
       "    </tr>\n",
       "    <tr>\n",
       "      <th>1</th>\n",
       "      <td>2</td>\n",
       "      <td>乌黑</td>\n",
       "      <td>蜷缩</td>\n",
       "      <td>沉闷</td>\n",
       "      <td>清晰</td>\n",
       "      <td>凹陷</td>\n",
       "      <td>硬滑</td>\n",
       "      <td>0.774</td>\n",
       "      <td>0.376</td>\n",
       "      <td>是</td>\n",
       "    </tr>\n",
       "    <tr>\n",
       "      <th>2</th>\n",
       "      <td>3</td>\n",
       "      <td>乌黑</td>\n",
       "      <td>蜷缩</td>\n",
       "      <td>浊响</td>\n",
       "      <td>清晰</td>\n",
       "      <td>凹陷</td>\n",
       "      <td>硬滑</td>\n",
       "      <td>0.634</td>\n",
       "      <td>0.264</td>\n",
       "      <td>是</td>\n",
       "    </tr>\n",
       "    <tr>\n",
       "      <th>3</th>\n",
       "      <td>4</td>\n",
       "      <td>青绿</td>\n",
       "      <td>蜷缩</td>\n",
       "      <td>沉闷</td>\n",
       "      <td>清晰</td>\n",
       "      <td>凹陷</td>\n",
       "      <td>硬滑</td>\n",
       "      <td>0.608</td>\n",
       "      <td>0.318</td>\n",
       "      <td>是</td>\n",
       "    </tr>\n",
       "    <tr>\n",
       "      <th>4</th>\n",
       "      <td>5</td>\n",
       "      <td>浅白</td>\n",
       "      <td>蜷缩</td>\n",
       "      <td>浊响</td>\n",
       "      <td>清晰</td>\n",
       "      <td>凹陷</td>\n",
       "      <td>硬滑</td>\n",
       "      <td>0.556</td>\n",
       "      <td>0.215</td>\n",
       "      <td>是</td>\n",
       "    </tr>\n",
       "    <tr>\n",
       "      <th>5</th>\n",
       "      <td>6</td>\n",
       "      <td>青绿</td>\n",
       "      <td>稍蜷</td>\n",
       "      <td>浊响</td>\n",
       "      <td>清晰</td>\n",
       "      <td>稍凹</td>\n",
       "      <td>软粘</td>\n",
       "      <td>0.403</td>\n",
       "      <td>0.237</td>\n",
       "      <td>是</td>\n",
       "    </tr>\n",
       "    <tr>\n",
       "      <th>6</th>\n",
       "      <td>7</td>\n",
       "      <td>乌黑</td>\n",
       "      <td>稍蜷</td>\n",
       "      <td>浊响</td>\n",
       "      <td>稍糊</td>\n",
       "      <td>稍凹</td>\n",
       "      <td>软粘</td>\n",
       "      <td>0.481</td>\n",
       "      <td>0.149</td>\n",
       "      <td>是</td>\n",
       "    </tr>\n",
       "    <tr>\n",
       "      <th>7</th>\n",
       "      <td>8</td>\n",
       "      <td>乌黑</td>\n",
       "      <td>稍蜷</td>\n",
       "      <td>浊响</td>\n",
       "      <td>清晰</td>\n",
       "      <td>稍凹</td>\n",
       "      <td>硬滑</td>\n",
       "      <td>0.437</td>\n",
       "      <td>0.211</td>\n",
       "      <td>是</td>\n",
       "    </tr>\n",
       "    <tr>\n",
       "      <th>8</th>\n",
       "      <td>9</td>\n",
       "      <td>乌黑</td>\n",
       "      <td>稍蜷</td>\n",
       "      <td>沉闷</td>\n",
       "      <td>稍糊</td>\n",
       "      <td>稍凹</td>\n",
       "      <td>硬滑</td>\n",
       "      <td>0.666</td>\n",
       "      <td>0.091</td>\n",
       "      <td>否</td>\n",
       "    </tr>\n",
       "    <tr>\n",
       "      <th>9</th>\n",
       "      <td>10</td>\n",
       "      <td>青绿</td>\n",
       "      <td>硬挺</td>\n",
       "      <td>清脆</td>\n",
       "      <td>清晰</td>\n",
       "      <td>平坦</td>\n",
       "      <td>软粘</td>\n",
       "      <td>0.243</td>\n",
       "      <td>0.267</td>\n",
       "      <td>否</td>\n",
       "    </tr>\n",
       "    <tr>\n",
       "      <th>10</th>\n",
       "      <td>11</td>\n",
       "      <td>浅白</td>\n",
       "      <td>硬挺</td>\n",
       "      <td>清脆</td>\n",
       "      <td>模糊</td>\n",
       "      <td>平坦</td>\n",
       "      <td>硬滑</td>\n",
       "      <td>0.245</td>\n",
       "      <td>0.057</td>\n",
       "      <td>否</td>\n",
       "    </tr>\n",
       "    <tr>\n",
       "      <th>11</th>\n",
       "      <td>12</td>\n",
       "      <td>浅白</td>\n",
       "      <td>蜷缩</td>\n",
       "      <td>浊响</td>\n",
       "      <td>模糊</td>\n",
       "      <td>平坦</td>\n",
       "      <td>软粘</td>\n",
       "      <td>0.343</td>\n",
       "      <td>0.099</td>\n",
       "      <td>否</td>\n",
       "    </tr>\n",
       "    <tr>\n",
       "      <th>12</th>\n",
       "      <td>13</td>\n",
       "      <td>青绿</td>\n",
       "      <td>稍蜷</td>\n",
       "      <td>浊响</td>\n",
       "      <td>稍糊</td>\n",
       "      <td>凹陷</td>\n",
       "      <td>硬滑</td>\n",
       "      <td>0.639</td>\n",
       "      <td>0.161</td>\n",
       "      <td>否</td>\n",
       "    </tr>\n",
       "    <tr>\n",
       "      <th>13</th>\n",
       "      <td>14</td>\n",
       "      <td>浅白</td>\n",
       "      <td>稍蜷</td>\n",
       "      <td>沉闷</td>\n",
       "      <td>稍糊</td>\n",
       "      <td>凹陷</td>\n",
       "      <td>硬滑</td>\n",
       "      <td>0.657</td>\n",
       "      <td>0.198</td>\n",
       "      <td>否</td>\n",
       "    </tr>\n",
       "    <tr>\n",
       "      <th>14</th>\n",
       "      <td>15</td>\n",
       "      <td>乌黑</td>\n",
       "      <td>稍蜷</td>\n",
       "      <td>浊响</td>\n",
       "      <td>清晰</td>\n",
       "      <td>稍凹</td>\n",
       "      <td>软粘</td>\n",
       "      <td>0.360</td>\n",
       "      <td>0.370</td>\n",
       "      <td>否</td>\n",
       "    </tr>\n",
       "    <tr>\n",
       "      <th>15</th>\n",
       "      <td>16</td>\n",
       "      <td>浅白</td>\n",
       "      <td>蜷缩</td>\n",
       "      <td>浊响</td>\n",
       "      <td>模糊</td>\n",
       "      <td>平坦</td>\n",
       "      <td>硬滑</td>\n",
       "      <td>0.593</td>\n",
       "      <td>0.042</td>\n",
       "      <td>否</td>\n",
       "    </tr>\n",
       "    <tr>\n",
       "      <th>16</th>\n",
       "      <td>17</td>\n",
       "      <td>青绿</td>\n",
       "      <td>蜷缩</td>\n",
       "      <td>沉闷</td>\n",
       "      <td>稍糊</td>\n",
       "      <td>稍凹</td>\n",
       "      <td>硬滑</td>\n",
       "      <td>0.719</td>\n",
       "      <td>0.103</td>\n",
       "      <td>否</td>\n",
       "    </tr>\n",
       "  </tbody>\n",
       "</table>\n",
       "</div>"
      ],
      "text/plain": [
       "    编号  色泽  根蒂  敲声  纹理  脐部  触感     密度    含糖率 好瓜\n",
       "0    1  青绿  蜷缩  浊响  清晰  凹陷  硬滑  0.697  0.460  是\n",
       "1    2  乌黑  蜷缩  沉闷  清晰  凹陷  硬滑  0.774  0.376  是\n",
       "2    3  乌黑  蜷缩  浊响  清晰  凹陷  硬滑  0.634  0.264  是\n",
       "3    4  青绿  蜷缩  沉闷  清晰  凹陷  硬滑  0.608  0.318  是\n",
       "4    5  浅白  蜷缩  浊响  清晰  凹陷  硬滑  0.556  0.215  是\n",
       "5    6  青绿  稍蜷  浊响  清晰  稍凹  软粘  0.403  0.237  是\n",
       "6    7  乌黑  稍蜷  浊响  稍糊  稍凹  软粘  0.481  0.149  是\n",
       "7    8  乌黑  稍蜷  浊响  清晰  稍凹  硬滑  0.437  0.211  是\n",
       "8    9  乌黑  稍蜷  沉闷  稍糊  稍凹  硬滑  0.666  0.091  否\n",
       "9   10  青绿  硬挺  清脆  清晰  平坦  软粘  0.243  0.267  否\n",
       "10  11  浅白  硬挺  清脆  模糊  平坦  硬滑  0.245  0.057  否\n",
       "11  12  浅白  蜷缩  浊响  模糊  平坦  软粘  0.343  0.099  否\n",
       "12  13  青绿  稍蜷  浊响  稍糊  凹陷  硬滑  0.639  0.161  否\n",
       "13  14  浅白  稍蜷  沉闷  稍糊  凹陷  硬滑  0.657  0.198  否\n",
       "14  15  乌黑  稍蜷  浊响  清晰  稍凹  软粘  0.360  0.370  否\n",
       "15  16  浅白  蜷缩  浊响  模糊  平坦  硬滑  0.593  0.042  否\n",
       "16  17  青绿  蜷缩  沉闷  稍糊  稍凹  硬滑  0.719  0.103  否"
      ]
     },
     "execution_count": 242,
     "metadata": {},
     "output_type": "execute_result"
    }
   ],
   "source": [
    "watermalon"
   ]
  },
  {
   "cell_type": "code",
   "execution_count": 267,
   "metadata": {},
   "outputs": [
    {
     "data": {
      "text/plain": [
       "array([-1.        , -1.        , -1.        , -1.        , -1.        ,\n",
       "       -1.        , -1.        , -1.        , -1.        , -1.        ,\n",
       "       -1.        , -1.        , -1.        , -1.        , -1.        ,\n",
       "       -1.        , -1.        , -1.        , -1.        , -1.        ,\n",
       "       -1.        , -1.        , -1.        , -1.        , -1.        ,\n",
       "       -1.        , -1.        , -1.        , -1.        , -1.        ,\n",
       "       -1.        , -1.        , -1.        , -1.        , -1.        ,\n",
       "       -1.        , -1.        , -1.        , -1.        , -1.        ,\n",
       "       -1.        , -1.        , -1.        , -1.        , -1.        ,\n",
       "       -1.        , -1.        , -1.        , -1.        , -1.        ,\n",
       "       -1.        , -1.        , -1.        , -1.        , -1.        ,\n",
       "       -1.        , -1.        , -1.        , -1.        , -1.        ,\n",
       "       -1.        , -1.        , -1.        , -1.        , -1.        ,\n",
       "       -1.        , -1.        , -1.        , -1.        , -1.        ,\n",
       "       -1.        , -1.        , -1.        , -1.        , -1.        ,\n",
       "       -1.        , -1.        , -1.        , -1.        , -1.        ,\n",
       "       -1.        , -1.        , -1.        , -1.        , -1.        ,\n",
       "       -1.        , -1.        , -1.        , -1.        , -1.        ,\n",
       "       -1.        , -1.        , -1.        , -1.        , -1.        ,\n",
       "       -1.        , -1.        , -1.        , -1.        , -1.        ,\n",
       "       -1.        , -1.        , -1.        , -1.        , -1.        ,\n",
       "       -1.        , -1.        , -1.        , -1.        , -1.        ,\n",
       "       -1.        , -1.        , -1.        , -1.        , -1.        ,\n",
       "       -1.        , -1.        , -1.        , -1.        , -1.        ,\n",
       "       -1.        , -1.        , -1.        , -1.        , -1.        ,\n",
       "       -1.        , -1.        , -1.        , -1.        , -1.        ,\n",
       "       -1.        , -1.        , -1.        , -1.        , -1.        ,\n",
       "       -1.        , -1.        , -1.        , -1.        , -1.        ,\n",
       "       -1.        , -1.        , -1.        , -1.        , -1.        ,\n",
       "       -1.        , -1.        , -1.        , -1.        , -1.        ,\n",
       "       -1.        , -1.        , -1.        , -1.        , -1.        ,\n",
       "       -1.        , -1.        , -1.        , -0.02745098,  0.9843137 ,\n",
       "        1.        , -0.5058824 , -1.        , -1.        , -1.        ,\n",
       "       -1.        , -1.        , -1.        , -1.        , -1.        ,\n",
       "       -1.        , -1.        , -1.        , -1.        , -1.        ,\n",
       "       -1.        , -1.        , -1.        , -1.        , -1.        ,\n",
       "       -1.        , -1.        , -1.        , -1.        , -1.        ,\n",
       "       -0.24705881,  0.9137255 ,  0.96862745,  0.9843137 , -0.5137255 ,\n",
       "       -1.        , -1.        , -1.        , -1.        , -1.        ,\n",
       "       -1.        , -1.        , -1.        , -1.        , -1.        ,\n",
       "       -1.        , -1.        , -1.        , -1.        , -1.        ,\n",
       "       -1.        , -1.        , -1.        , -1.        , -1.        ,\n",
       "       -1.        , -1.        , -1.        , -0.00392157,  0.96862745,\n",
       "        0.96862745,  0.9843137 , -0.5137255 , -1.        , -1.        ,\n",
       "       -1.        , -1.        , -1.        , -1.        , -1.        ,\n",
       "       -1.        , -1.        , -1.        , -1.        , -1.        ,\n",
       "       -1.        , -1.        , -1.        , -1.        , -1.        ,\n",
       "       -1.        , -1.        , -1.        , -1.        , -1.        ,\n",
       "       -0.46666664,  0.8509804 ,  0.96862745,  0.654902  , -0.75686276,\n",
       "       -0.9372549 , -1.        , -1.        , -1.        , -1.        ,\n",
       "       -1.        , -1.        , -1.        , -1.        , -1.        ,\n",
       "       -1.        , -1.        , -1.        , -1.        , -1.        ,\n",
       "       -1.        , -1.        , -1.        , -1.        , -1.        ,\n",
       "       -1.        , -1.        , -0.5294118 ,  0.7882353 ,  0.96862745,\n",
       "        0.96862745, -0.26274508, -1.        , -1.        , -1.        ,\n",
       "       -1.        , -1.        , -1.        , -1.        , -1.        ,\n",
       "       -1.        , -1.        , -1.        , -1.        , -1.        ,\n",
       "       -1.        , -1.        , -1.        , -1.        , -1.        ,\n",
       "       -1.        , -1.        , -1.        , -1.        , -1.        ,\n",
       "        0.21568632,  0.9843137 ,  0.9843137 ,  0.48235297, -1.        ,\n",
       "       -1.        , -1.        , -1.        , -1.        , -1.        ,\n",
       "       -1.        , -1.        , -1.        , -1.        , -1.        ,\n",
       "       -1.        , -1.        , -1.        , -1.        , -1.        ,\n",
       "       -1.        , -1.        , -1.        , -1.        , -1.        ,\n",
       "       -1.        , -1.        , -0.84313726,  0.9843137 ,  0.96862745,\n",
       "        0.84313726, -0.4823529 , -1.        , -1.        , -1.        ,\n",
       "       -1.        , -1.        , -1.        , -1.        , -1.        ,\n",
       "       -1.        , -1.        , -1.        , -1.        , -1.        ,\n",
       "       -1.        , -1.        , -1.        , -1.        , -1.        ,\n",
       "       -1.        , -1.        , -1.        , -1.        , -0.7490196 ,\n",
       "        0.60784316,  0.9843137 ,  0.96862745, -0.01176471, -1.        ,\n",
       "       -1.        , -1.        , -1.        , -1.        , -1.        ,\n",
       "       -1.        , -1.        , -1.        , -1.        , -1.        ,\n",
       "       -1.        , -1.        , -1.        , -1.        , -1.        ,\n",
       "       -1.        , -1.        , -1.        , -1.        , -1.        ,\n",
       "       -1.        , -1.        , -0.18431371,  0.96862745,  0.9843137 ,\n",
       "        0.4431373 , -0.88235295, -1.        , -1.        , -1.        ,\n",
       "       -1.        , -1.        , -1.        , -1.        , -1.        ,\n",
       "       -1.        , -1.        , -1.        , -1.        , -1.        ,\n",
       "       -1.        , -1.        , -1.        , -1.        , -1.        ,\n",
       "       -1.        , -1.        , -1.        , -1.        , -0.372549  ,\n",
       "        0.88235295,  0.96862745,  0.5137255 , -0.81960785, -1.        ,\n",
       "       -1.        , -1.        , -1.        , -1.        , -1.        ,\n",
       "       -1.        , -1.        , -1.        , -1.        , -1.        ,\n",
       "       -1.        , -1.        , -1.        , -1.        , -1.        ,\n",
       "       -1.        , -1.        , -1.        , -1.        , -1.        ,\n",
       "       -1.        , -0.7490196 ,  0.9843137 ,  0.9843137 ,  0.9843137 ,\n",
       "        0.24705887, -1.        , -1.        , -1.        , -1.        ,\n",
       "       -1.        , -1.        , -1.        , -1.        , -1.        ,\n",
       "       -1.        , -1.        , -1.        , -1.        , -1.        ,\n",
       "       -1.        , -1.        , -1.        , -1.        , -1.        ,\n",
       "       -1.        , -1.        , -1.        , -1.        ,  0.18431377,\n",
       "        0.96862745,  0.96862745,  0.96862745, -0.69411767, -1.        ,\n",
       "       -1.        , -1.        , -1.        , -1.        , -1.        ,\n",
       "       -1.        , -1.        , -1.        , -1.        , -1.        ,\n",
       "       -1.        , -1.        , -1.        , -1.        , -1.        ,\n",
       "       -1.        , -1.        , -1.        , -1.        , -1.        ,\n",
       "       -1.        , -0.62352943,  0.73333335,  0.96862745,  0.96862745,\n",
       "        0.34901965, -1.        , -1.        , -1.        , -1.        ,\n",
       "       -1.        , -1.        , -1.        , -1.        , -1.        ,\n",
       "       -1.        , -1.        , -1.        , -1.        , -1.        ,\n",
       "       -1.        , -1.        , -1.        , -1.        , -1.        ,\n",
       "       -1.        , -1.        , -1.        , -1.        ,  0.8352941 ,\n",
       "        0.96862745,  0.96862745,  0.5372549 , -0.90588236, -1.        ,\n",
       "       -1.        , -1.        , -1.        , -1.        , -1.        ,\n",
       "       -1.        , -1.        , -1.        , -1.        , -1.        ,\n",
       "       -1.        , -1.        , -1.        , -1.        , -1.        ,\n",
       "       -1.        , -1.        , -1.        , -1.        , -1.        ,\n",
       "       -1.        , -1.        ,  0.9843137 ,  0.96862745,  0.96862745,\n",
       "       -0.30196077, -1.        , -1.        , -1.        , -1.        ,\n",
       "       -1.        , -1.        , -1.        , -1.        , -1.        ,\n",
       "       -1.        , -1.        , -1.        , -1.        , -1.        ,\n",
       "       -1.        , -1.        , -1.        , -1.        , -1.        ,\n",
       "       -1.        , -1.        , -1.        , -1.        ,  0.24705887,\n",
       "        1.        ,  0.9843137 ,  0.9843137 , -0.75686276, -1.        ,\n",
       "       -1.        , -1.        , -1.        , -1.        , -1.        ,\n",
       "       -1.        , -1.        , -1.        , -1.        , -1.        ,\n",
       "       -1.        , -1.        , -1.        , -1.        , -1.        ,\n",
       "       -1.        , -1.        , -1.        , -1.        , -1.        ,\n",
       "       -1.        , -0.62352943,  0.7882353 ,  0.9843137 ,  0.9372549 ,\n",
       "        0.09803927, -0.9372549 , -1.        , -1.        , -1.        ,\n",
       "       -1.        , -1.        , -1.        , -1.        , -1.        ,\n",
       "       -1.        , -1.        , -1.        , -1.        , -1.        ,\n",
       "       -1.        , -1.        , -1.        , -1.        , -1.        ,\n",
       "       -1.        , -1.        , -1.        , -1.        , -0.4980392 ,\n",
       "        0.96862745,  0.9843137 ,  0.7254902 , -1.        , -1.        ,\n",
       "       -1.        , -1.        , -1.        , -1.        , -1.        ,\n",
       "       -1.        , -1.        , -1.        , -1.        , -1.        ,\n",
       "       -1.        , -1.        , -1.        , -1.        , -1.        ,\n",
       "       -1.        , -1.        , -1.        , -1.        , -1.        ,\n",
       "       -1.        , -1.        , -0.4980392 ,  0.96862745,  0.9843137 ,\n",
       "        0.7254902 , -1.        , -1.        , -1.        , -1.        ,\n",
       "       -1.        , -1.        , -1.        , -1.        , -1.        ,\n",
       "       -1.        , -1.        , -1.        , -1.        , -1.        ,\n",
       "       -1.        , -1.        , -1.        , -1.        , -1.        ,\n",
       "       -1.        , -1.        , -1.        , -1.        , -1.        ,\n",
       "       -0.8117647 ,  0.5137255 ,  0.9843137 ,  0.7254902 , -1.        ,\n",
       "       -1.        , -1.        , -1.        , -1.        , -1.        ,\n",
       "       -1.        , -1.        , -1.        , -1.        , -1.        ,\n",
       "       -1.        , -1.        , -1.        , -1.        , -1.        ,\n",
       "       -1.        , -1.        , -1.        , -1.        , -1.        ,\n",
       "       -1.        , -1.        , -1.        , -1.        , -1.        ,\n",
       "       -1.        , -1.        , -1.        , -1.        , -1.        ,\n",
       "       -1.        , -1.        , -1.        , -1.        , -1.        ,\n",
       "       -1.        , -1.        , -1.        , -1.        , -1.        ,\n",
       "       -1.        , -1.        , -1.        , -1.        , -1.        ,\n",
       "       -1.        , -1.        , -1.        , -1.        , -1.        ,\n",
       "       -1.        , -1.        , -1.        , -1.        , -1.        ,\n",
       "       -1.        , -1.        , -1.        , -1.        , -1.        ,\n",
       "       -1.        , -1.        , -1.        , -1.        , -1.        ,\n",
       "       -1.        , -1.        , -1.        , -1.        , -1.        ,\n",
       "       -1.        , -1.        , -1.        , -1.        , -1.        ,\n",
       "       -1.        , -1.        , -1.        , -1.        , -1.        ,\n",
       "       -1.        , -1.        , -1.        , -1.        , -1.        ,\n",
       "       -1.        , -1.        , -1.        , -1.        , -1.        ,\n",
       "       -1.        , -1.        , -1.        , -1.        , -1.        ,\n",
       "       -1.        , -1.        , -1.        , -1.        ], dtype=float32)"
      ]
     },
     "execution_count": 267,
     "metadata": {},
     "output_type": "execute_result"
    }
   ],
   "source": [
    "Mnist12_vector[0]"
   ]
  },
  {
   "cell_type": "code",
   "execution_count": 276,
   "metadata": {},
   "outputs": [],
   "source": [
    "MnistTrain,MnistTest = getMnistData()\n",
    "example = MnistTrain[0][0][0].detach().numpy()\n",
    "example_label = MnistTrain[0][1].item()"
   ]
  },
  {
   "cell_type": "code",
   "execution_count": 277,
   "metadata": {},
   "outputs": [],
   "source": [
    "Mnist12_vector = []\n",
    "Mnist12_label = []\n",
    "Mnist12_img = []\n",
    "for item in MnistTrain:\n",
    "    label = item[1].item()\n",
    "    if label >2 or label==0:\n",
    "        continue\n",
    "    Mnist12_vector.append(item[0][0].detach().numpy().reshape(-1,))\n",
    "    Mnist12_img.append(item[0][0].detach().numpy())\n",
    "    Mnist12_label.append(label)\n",
    "for item in MnistTest:\n",
    "    label = item[1].item()\n",
    "    if label >2 or label==0:\n",
    "        continue\n",
    "    Mnist12_vector.append(item[0][0].detach().numpy().reshape(-1,))\n",
    "    Mnist12_img.append(item[0][0].detach().numpy())\n",
    "    Mnist12_label.append(label)\n",
    "    \n",
    "Mnist12_vector = np.array(Mnist12_vector)\n",
    "Mnist12_label = np.array(Mnist12_label)\n",
    "Mnist12_img = np.array(Mnist12_img)\n",
    "Mnist12_label = Mnist12_label.reshape(-1,1)"
   ]
  },
  {
   "cell_type": "code",
   "execution_count": 278,
   "metadata": {},
   "outputs": [
    {
     "data": {
      "text/plain": [
       "((14867, 784), (14867, 1))"
      ]
     },
     "execution_count": 278,
     "metadata": {},
     "output_type": "execute_result"
    }
   ],
   "source": [
    "Mnist12_vector.shape,Mnist12_label.shape"
   ]
  },
  {
   "cell_type": "code",
   "execution_count": 279,
   "metadata": {},
   "outputs": [],
   "source": [
    "example = Mnist12_img[0]\n",
    "example_label = Mnist12_label[0]"
   ]
  },
  {
   "cell_type": "code",
   "execution_count": 280,
   "metadata": {},
   "outputs": [
    {
     "data": {
      "text/plain": [
       "<matplotlib.image.AxesImage at 0x2ab29206630>"
      ]
     },
     "execution_count": 280,
     "metadata": {},
     "output_type": "execute_result"
    },
    {
     "data": {
      "image/png": "[encoded data removed]",
      "text/plain": [
       "<Figure size 432x288 with 1 Axes>"
      ]
     },
     "metadata": {},
     "output_type": "display_data"
    }
   ],
   "source": [
    "plt.imshow(example)"
   ]
  },
  {
   "cell_type": "code",
   "execution_count": 281,
   "metadata": {},
   "outputs": [],
   "source": [
    "def compute_squared_1(X):\n",
    "    X = X.T\n",
    "    m,n = X.shape\n",
    "    G = np.dot(X.T, X)\n",
    "    D = np.zeros([n, n])\n",
    "    for i in range(n):\n",
    "        for j in range(i+1, n):\n",
    "            d = X[:,i] - X[:,j]\n",
    "            D[i,j] = G[i,i] - 2 * G[i,j] + G[j,j]\n",
    "            D[j,i] = D[i,j]\n",
    "    return D.T"
   ]
  },
  {
   "cell_type": "code",
   "execution_count": 282,
   "metadata": {},
   "outputs": [],
   "source": [
    "# MatD = compute_squared_1(Mnist12_vector)"
   ]
  },
  {
   "cell_type": "code",
   "execution_count": 70,
   "metadata": {},
   "outputs": [],
   "source": [
    "Try = Mnist12_vector[:1000]\n",
    "Label = Mnist12_label[:1000]"
   ]
  },
  {
   "cell_type": "code",
   "execution_count": 71,
   "metadata": {},
   "outputs": [],
   "source": [
    "MatD_real = compute_squared(Try)"
   ]
  },
  {
   "cell_type": "code",
   "execution_count": 72,
   "metadata": {},
   "outputs": [
    {
     "data": {
      "text/plain": [
       "array([[  0.      , 392.21326 , 340.969   , ..., 357.73193 , 435.22046 ,\n",
       "        348.3479  ],\n",
       "       [392.21326 ,   0.      , 421.67212 , ..., 420.90723 , 334.82764 ,\n",
       "        413.5708  ],\n",
       "       [340.969   , 421.67212 ,   0.      , ...,  27.09082 , 431.88367 ,\n",
       "         72.80017 ],\n",
       "       ...,\n",
       "       [357.73193 , 420.90723 ,  27.09082 , ...,   0.      , 424.54834 ,\n",
       "         54.998413],\n",
       "       [435.22046 , 334.82764 , 431.88367 , ..., 424.54834 ,   0.      ,\n",
       "        450.5559  ],\n",
       "       [348.3479  , 413.5708  ,  72.80017 , ...,  54.998413, 450.5559  ,\n",
       "          0.      ]], dtype=float32)"
      ]
     },
     "execution_count": 72,
     "metadata": {},
     "output_type": "execute_result"
    }
   ],
   "source": [
    "MatD_real"
   ]
  },
  {
   "cell_type": "code",
   "execution_count": 73,
   "metadata": {},
   "outputs": [
    {
     "data": {
      "text/plain": [
       "(1000, 1000)"
      ]
     },
     "execution_count": 73,
     "metadata": {},
     "output_type": "execute_result"
    }
   ],
   "source": [
    "MatD_real.shape"
   ]
  },
  {
   "cell_type": "code",
   "execution_count": 74,
   "metadata": {},
   "outputs": [],
   "source": [
    "DistI = np.sum(MatD_real,axis=0)\n",
    "DistJ = np.sum(MatD_real,axis=1)\n",
    "DistDD = np.sum(MatD_real)"
   ]
  },
  {
   "cell_type": "code",
   "execution_count": 75,
   "metadata": {},
   "outputs": [
    {
     "data": {
      "text/plain": [
       "((1000,), (1000,), ())"
      ]
     },
     "execution_count": 75,
     "metadata": {},
     "output_type": "execute_result"
    }
   ],
   "source": [
    "DistI.shape,DistJ.shape,DistDD.shape"
   ]
  },
  {
   "cell_type": "code",
   "execution_count": 76,
   "metadata": {},
   "outputs": [
    {
     "data": {
      "text/plain": [
       "335286660.0"
      ]
     },
     "execution_count": 76,
     "metadata": {},
     "output_type": "execute_result"
    }
   ],
   "source": [
    "DistDD"
   ]
  },
  {
   "cell_type": "code",
   "execution_count": 77,
   "metadata": {},
   "outputs": [],
   "source": [
    "MatB = np.zeros_like(MatD_real)"
   ]
  },
  {
   "cell_type": "code",
   "execution_count": 78,
   "metadata": {},
   "outputs": [],
   "source": [
    "n = MatB.shape[0]\n",
    "m = MatB.shape[1]\n",
    "for i in range(n):\n",
    "    for j in range(m):\n",
    "        MatB[i][j] = (DistI[i] + DistJ[j] - DistDD/n - MatD_real[i][j]*MatD_real[i][j]*n)/(2*n)"
   ]
  },
  {
   "cell_type": "code",
   "execution_count": 79,
   "metadata": {},
   "outputs": [],
   "source": [
    "e_vals,e_vecs = np.linalg.eig(MatB)"
   ]
  },
  {
   "cell_type": "code",
   "execution_count": 80,
   "metadata": {},
   "outputs": [
    {
     "data": {
      "text/plain": [
       "((1000,), (1000, 1000))"
      ]
     },
     "execution_count": 80,
     "metadata": {},
     "output_type": "execute_result"
    }
   ],
   "source": [
    "e_vals.shape,e_vecs.shape"
   ]
  },
  {
   "cell_type": "code",
   "execution_count": 81,
   "metadata": {},
   "outputs": [],
   "source": [
    "def topk(mat,k):\n",
    "    e_vals,e_vecs = np.linalg.eig(mat)\n",
    "    sorted_indices = np.argsort(e_vals)\n",
    "    return e_vals[sorted_indices[:-k-1:-1]],e_vecs[:,sorted_indices[:-k-1:-1]]"
   ]
  },
  {
   "cell_type": "code",
   "execution_count": 82,
   "metadata": {},
   "outputs": [],
   "source": [
    "need_vals2 , need_vector2 = topk(MatB,2)\n",
    "Dim_to_2 = need_vector2.dot(np.sqrt(np.diag(need_vals2)))\n",
    "need_vals3 , need_vector3 = topk(MatB,3)\n",
    "Dim_to_3 = need_vector3.dot(np.sqrt(np.diag(need_vals3)))"
   ]
  },
  {
   "cell_type": "code",
   "execution_count": 83,
   "metadata": {},
   "outputs": [
    {
     "data": {
      "text/plain": [
       "(1000, 2)"
      ]
     },
     "execution_count": 83,
     "metadata": {},
     "output_type": "execute_result"
    }
   ],
   "source": [
    "Dim_to_2.shape"
   ]
  },
  {
   "cell_type": "code",
   "execution_count": 42,
   "metadata": {},
   "outputs": [],
   "source": [
    "from mpl_toolkits.mplot3d import Axes3D"
   ]
  },
  {
   "cell_type": "code",
   "execution_count": null,
   "metadata": {},
   "outputs": [],
   "source": []
  },
  {
   "cell_type": "code",
   "execution_count": 84,
   "metadata": {},
   "outputs": [],
   "source": [
    "df = pd.DataFrame(np.hstack((Dim_to_2,Label)),columns = ['x1','x2','label'])\n"
   ]
  },
  {
   "cell_type": "code",
   "execution_count": 85,
   "metadata": {},
   "outputs": [],
   "source": [
    "import seaborn as sns"
   ]
  },
  {
   "cell_type": "code",
   "execution_count": 86,
   "metadata": {},
   "outputs": [
    {
     "data": {
      "text/plain": [
       "<matplotlib.axes._subplots.AxesSubplot at 0x26e882814a8>"
      ]
     },
     "execution_count": 86,
     "metadata": {},
     "output_type": "execute_result"
    },
    {
     "data": {
      "image/png": "[encoded data removed]",
      "text/plain": [
       "<Figure size 432x288 with 1 Axes>"
      ]
     },
     "metadata": {},
     "output_type": "display_data"
    },
    {
     "data": {
      "image/png": "[encoded data removed]",
      "text/plain": [
       "<Figure size 432x288 with 1 Axes>"
      ]
     },
     "metadata": {},
     "output_type": "display_data"
    }
   ],
   "source": [
    "df[df['label']==1].plot(kind='scatter',x='x1',y='x2',c='b')\n",
    "df[df['label']==2].plot(kind='scatter',x='x1',y='x2',c='r')"
   ]
  },
  {
   "cell_type": "code",
   "execution_count": 92,
   "metadata": {},
   "outputs": [],
   "source": [
    "%matplotlib inline"
   ]
  },
  {
   "cell_type": "code",
   "execution_count": 95,
   "metadata": {},
   "outputs": [],
   "source": [
    "import matplotlib"
   ]
  },
  {
   "cell_type": "code",
   "execution_count": 103,
   "metadata": {},
   "outputs": [],
   "source": [
    "font = {'family': 'MicroSoft Yahei',\n",
    "       'weight': 'bold',\n",
    "       'size': 12}\n",
    " \n",
    "matplotlib.rc(\"font\", **font)"
   ]
  },
  {
   "cell_type": "code",
   "execution_count": 105,
   "metadata": {},
   "outputs": [
    {
     "name": "stderr",
     "output_type": "stream",
     "text": [
      "D:\\anaconda\\lib\\site-packages\\matplotlib\\font_manager.py:1328: UserWarning: findfont: Font family ['MicroSoft Yahei'] not found. Falling back to DejaVu Sans\n",
      "  (prop.get_family(), self.defaultFamily[fontext]))\n"
     ]
    },
    {
     "data": {
      "image/png": "[encoded data removed]",
      "text/plain": [
       "<Figure size 432x288 with 1 Axes>"
      ]
     },
     "metadata": {},
     "output_type": "display_data"
    }
   ],
   "source": [
    "ax = plt.figure()\n",
    "colors = ['b','g']\n",
    "Label_Com = [1,2]\n",
    "plt.title('MDS_To_dim2')\n",
    "for label in range(1,-1,-1):\n",
    "    x1 = df[df['label']==Label_Com[label]]['x1']\n",
    "    y1 = df[df['label']==Label_Com[label]]['x2']\n",
    "    plt.scatter(x1,y1,c=colors[label])\n",
    "\n",
    "plt.legend(['1','2'])\n",
    "plt.show()"
   ]
  },
  {
   "cell_type": "code",
   "execution_count": 829,
   "metadata": {},
   "outputs": [
    {
     "ename": "NameError",
     "evalue": "name 'Dim_to_3' is not defined",
     "output_type": "error",
     "traceback": [
      "\u001b[1;31m---------------------------------------------------------------------------\u001b[0m",
      "\u001b[1;31mNameError\u001b[0m                                 Traceback (most recent call last)",
      "\u001b[1;32m<ipython-input-829-5b046586ec07>\u001b[0m in \u001b[0;36m<module>\u001b[1;34m()\u001b[0m\n\u001b[1;32m----> 1\u001b[1;33m \u001b[0mdf3\u001b[0m \u001b[1;33m=\u001b[0m \u001b[0mpd\u001b[0m\u001b[1;33m.\u001b[0m\u001b[0mDataFrame\u001b[0m\u001b[1;33m(\u001b[0m\u001b[0mnp\u001b[0m\u001b[1;33m.\u001b[0m\u001b[0mhstack\u001b[0m\u001b[1;33m(\u001b[0m\u001b[1;33m(\u001b[0m\u001b[0mDim_to_3\u001b[0m\u001b[1;33m,\u001b[0m\u001b[0mLabel\u001b[0m\u001b[1;33m)\u001b[0m\u001b[1;33m)\u001b[0m\u001b[1;33m,\u001b[0m\u001b[0mcolumns\u001b[0m \u001b[1;33m=\u001b[0m \u001b[1;33m[\u001b[0m\u001b[1;34m'x1'\u001b[0m\u001b[1;33m,\u001b[0m\u001b[1;34m'x2'\u001b[0m\u001b[1;33m,\u001b[0m\u001b[1;34m'x3'\u001b[0m\u001b[1;33m,\u001b[0m\u001b[1;34m'label'\u001b[0m\u001b[1;33m]\u001b[0m\u001b[1;33m)\u001b[0m\u001b[1;33m\u001b[0m\u001b[0m\n\u001b[0m",
      "\u001b[1;31mNameError\u001b[0m: name 'Dim_to_3' is not defined"
     ]
    }
   ],
   "source": [
    "df3 = pd.DataFrame(np.hstack((Dim_to_3,Label)),columns = ['x1','x2','x3','label'])"
   ]
  },
  {
   "cell_type": "code",
   "execution_count": 827,
   "metadata": {},
   "outputs": [],
   "source": [
    "from mpl_toolkits.mplot3d import Axes3D"
   ]
  },
  {
   "cell_type": "code",
   "execution_count": 828,
   "metadata": {},
   "outputs": [
    {
     "ename": "NameError",
     "evalue": "name 'df3' is not defined",
     "output_type": "error",
     "traceback": [
      "\u001b[1;31m---------------------------------------------------------------------------\u001b[0m",
      "\u001b[1;31mNameError\u001b[0m                                 Traceback (most recent call last)",
      "\u001b[1;32m<ipython-input-828-7e196c67810b>\u001b[0m in \u001b[0;36m<module>\u001b[1;34m()\u001b[0m\n\u001b[0;32m      7\u001b[0m \u001b[0mplt\u001b[0m\u001b[1;33m.\u001b[0m\u001b[0mtitle\u001b[0m\u001b[1;33m(\u001b[0m\u001b[1;34m'MDS_To_dim3'\u001b[0m\u001b[1;33m)\u001b[0m\u001b[1;33m\u001b[0m\u001b[0m\n\u001b[0;32m      8\u001b[0m \u001b[1;32mfor\u001b[0m \u001b[0mlabel\u001b[0m \u001b[1;32min\u001b[0m \u001b[0mrange\u001b[0m\u001b[1;33m(\u001b[0m\u001b[1;36m1\u001b[0m\u001b[1;33m,\u001b[0m\u001b[1;33m-\u001b[0m\u001b[1;36m1\u001b[0m\u001b[1;33m,\u001b[0m\u001b[1;33m-\u001b[0m\u001b[1;36m1\u001b[0m\u001b[1;33m)\u001b[0m\u001b[1;33m:\u001b[0m\u001b[1;33m\u001b[0m\u001b[0m\n\u001b[1;32m----> 9\u001b[1;33m     \u001b[0mx\u001b[0m \u001b[1;33m=\u001b[0m \u001b[0mdf3\u001b[0m\u001b[1;33m[\u001b[0m\u001b[0mdf3\u001b[0m\u001b[1;33m[\u001b[0m\u001b[1;34m'label'\u001b[0m\u001b[1;33m]\u001b[0m\u001b[1;33m==\u001b[0m\u001b[0mLabel_Com\u001b[0m\u001b[1;33m[\u001b[0m\u001b[0mlabel\u001b[0m\u001b[1;33m]\u001b[0m\u001b[1;33m]\u001b[0m\u001b[1;33m[\u001b[0m\u001b[1;34m'x1'\u001b[0m\u001b[1;33m]\u001b[0m\u001b[1;33m\u001b[0m\u001b[0m\n\u001b[0m\u001b[0;32m     10\u001b[0m     \u001b[0my\u001b[0m \u001b[1;33m=\u001b[0m \u001b[0mdf3\u001b[0m\u001b[1;33m[\u001b[0m\u001b[0mdf3\u001b[0m\u001b[1;33m[\u001b[0m\u001b[1;34m'label'\u001b[0m\u001b[1;33m]\u001b[0m\u001b[1;33m==\u001b[0m\u001b[0mLabel_Com\u001b[0m\u001b[1;33m[\u001b[0m\u001b[0mlabel\u001b[0m\u001b[1;33m]\u001b[0m\u001b[1;33m]\u001b[0m\u001b[1;33m[\u001b[0m\u001b[1;34m'x2'\u001b[0m\u001b[1;33m]\u001b[0m\u001b[1;33m\u001b[0m\u001b[0m\n\u001b[0;32m     11\u001b[0m     \u001b[0mz\u001b[0m \u001b[1;33m=\u001b[0m \u001b[0mdf3\u001b[0m\u001b[1;33m[\u001b[0m\u001b[0mdf3\u001b[0m\u001b[1;33m[\u001b[0m\u001b[1;34m'label'\u001b[0m\u001b[1;33m]\u001b[0m\u001b[1;33m==\u001b[0m\u001b[0mLabel_Com\u001b[0m\u001b[1;33m[\u001b[0m\u001b[0mlabel\u001b[0m\u001b[1;33m]\u001b[0m\u001b[1;33m]\u001b[0m\u001b[1;33m[\u001b[0m\u001b[1;34m'x3'\u001b[0m\u001b[1;33m]\u001b[0m\u001b[1;33m\u001b[0m\u001b[0m\n",
      "\u001b[1;31mNameError\u001b[0m: name 'df3' is not defined"
     ]
    },
    {
     "data": {
      "image/png": "[encoded data removed]",
      "text/plain": [
       "<Figure size 1152x864 with 1 Axes>"
      ]
     },
     "metadata": {},
     "output_type": "display_data"
    }
   ],
   "source": [
    "fig = plt.figure(figsize=(16, 12))  #参数为图片大小\n",
    "\n",
    "ax = fig.add_subplot(111,projection='3d')  \n",
    "ax.set_aspect('equal')\n",
    "colors = ['b','g']\n",
    "Label_Com = [1,2]\n",
    "plt.title('MDS_To_dim3')\n",
    "for label in range(1,-1,-1):\n",
    "    x = df3[df3['label']==Label_Com[label]]['x1']\n",
    "    y = df3[df3['label']==Label_Com[label]]['x2']\n",
    "    z = df3[df3['label']==Label_Com[label]]['x3']\n",
    "    c = colors[label]\n",
    "    ax.scatter(x, y, z, c=c, label=str(label))\n",
    "\n",
    "plt.legend(['1','2'])\n",
    "plt.show()"
   ]
  },
  {
   "cell_type": "code",
   "execution_count": 5,
   "metadata": {},
   "outputs": [
    {
     "data": {
      "text/plain": [
       "((17, 19), (17, 1))"
      ]
     },
     "execution_count": 5,
     "metadata": {},
     "output_type": "execute_result"
    }
   ],
   "source": [
    "Data_watermelon.shape, Label_watermelon.shape"
   ]
  },
  {
   "cell_type": "code",
   "execution_count": 235,
   "metadata": {},
   "outputs": [],
   "source": [
    "def getAcc(Types):\n",
    "    acc1 = (sum(Types[0])+sum(Types[1]))/(len(Types[0])+len(Types[1]))\n",
    "    acc2 = (len(Types[0])-sum(Types[0])+len(Types[1])-sum(Types[1]))/(len(Types[0])+len(Types[1]))\n",
    "    acc = max(acc1,acc2)\n",
    "    return acc"
   ]
  },
  {
   "cell_type": "code",
   "execution_count": 431,
   "metadata": {},
   "outputs": [],
   "source": [
    "def AvgEuclideanDistance(SetA,SetB):\n",
    "    if len(SetA)==0 or len(SetB)==0:\n",
    "        return False\n",
    "    Dist_Sum = 0\n",
    "    for itemA in SetA:\n",
    "        for itemB in SetB:\n",
    "            Dist_Sum += np.sum(np.square(itemA-itemB))\n",
    "            \n",
    "    Dist_Sum /= len(SetA) * len(SetB)\n",
    "    return Dist_Sum\n",
    "\n"
   ]
  },
  {
   "cell_type": "code",
   "execution_count": 432,
   "metadata": {},
   "outputs": [],
   "source": []
  },
  {
   "cell_type": "code",
   "execution_count": 797,
   "metadata": {
    "scrolled": true
   },
   "outputs": [
    {
     "name": "stdout",
     "output_type": "stream",
     "text": [
      "{0: [0], 1: [1], 2: [2], 3: [3], 4: [4], 5: [5, 12], 6: [6], 7: [7], 8: [8], 9: [9], 10: [10], 11: [11], 12: [12], 13: [13], 14: [14], 15: [15], 16: [16]}\n",
      "{0: [0], 1: [1], 2: [2], 3: [3, 8], 4: [4], 5: [5, 12], 6: [6], 7: [7], 8: [8], 9: [9], 10: [10], 11: [11], 13: [13], 14: [14], 15: [15], 16: [16]}\n",
      "{0: [0, 16], 1: [1], 2: [2], 3: [3, 8], 4: [4], 5: [5, 12], 6: [6], 7: [7], 9: [9], 10: [10], 11: [11], 13: [13], 14: [14], 15: [15], 16: [16]}\n",
      "{0: [0, 16], 1: [1, 4], 2: [2], 3: [3, 8], 4: [4], 5: [5, 12], 6: [6], 7: [7], 9: [9], 10: [10], 11: [11], 13: [13], 14: [14], 15: [15]}\n",
      "{0: [0, 16], 1: [1, 4], 2: [2], 3: [3, 8, 14], 5: [5, 12], 6: [6], 7: [7], 9: [9], 10: [10], 11: [11], 13: [13], 14: [14], 15: [15]}\n",
      "{0: [0, 16, 9], 1: [1, 4], 2: [2], 3: [3, 8, 14], 5: [5, 12], 6: [6], 7: [7], 9: [9], 10: [10], 11: [11], 13: [13], 15: [15]}\n",
      "{0: [0, 16, 9, 5, 12], 1: [1, 4], 2: [2], 3: [3, 8, 14], 5: [5, 12], 6: [6], 7: [7], 10: [10], 11: [11], 13: [13], 15: [15]}\n",
      "{0: [0, 16, 9, 5, 12], 1: [1, 4], 2: [2], 3: [3, 8, 14, 11], 6: [6], 7: [7], 10: [10], 11: [11], 13: [13], 15: [15]}\n",
      "{0: [0, 16, 9, 5, 12], 1: [1, 4], 2: [2], 3: [3, 8, 14, 11], 6: [6], 7: [7], 10: [10], 13: [13, 15], 15: [15]}\n",
      "{0: [0, 16, 9, 5, 12], 1: [1, 4], 2: [2], 3: [3, 8, 14, 11], 6: [6, 10], 7: [7], 10: [10], 13: [13, 15]}\n",
      "{0: [0, 16, 9, 5, 12], 1: [1, 4, 2], 2: [2], 3: [3, 8, 14, 11], 6: [6, 10], 7: [7], 13: [13, 15]}\n",
      "{0: [0, 16, 9, 5, 12], 1: [1, 4, 2], 3: [3, 8, 14, 11], 6: [6, 10, 13, 15], 7: [7], 13: [13, 15]}\n",
      "{0: [0, 16, 9, 5, 12, 6, 10, 13, 15], 1: [1, 4, 2], 3: [3, 8, 14, 11], 6: [6, 10, 13, 15], 7: [7]}\n",
      "{0: [0, 16, 9, 5, 12, 6, 10, 13, 15, 3, 8, 14, 11], 1: [1, 4, 2], 3: [3, 8, 14, 11], 7: [7]}\n",
      "{0: [0, 16, 9, 5, 12, 6, 10, 13, 15, 3, 8, 14, 11], 1: [1, 4, 2, 7], 7: [7]}\n",
      "{0: [0, 16, 9, 5, 12, 6, 10, 13, 15, 3, 8, 14, 11], 1: [1, 4, 2, 7]}\n"
     ]
    }
   ],
   "source": [
    "KindList = {}\n",
    "numlist ={}  \n",
    "num = 0\n",
    "for item in Data_watermelon:\n",
    "    KindList[num] = [item]\n",
    "    numlist[num] = [num]\n",
    "    num+= 1\n",
    "\n",
    "# print(KindList.keys())\n",
    "# print(numlist.keys())\n",
    "recorder = []\n",
    "while len(KindList)>2:\n",
    "    mat = np.ones((len(KindList),len(KindList)))\n",
    "    mat *= 9999999\n",
    "    for i in range(len(KindList)):\n",
    "        for j in range(i+1,len(KindList)):\n",
    "            mat[i,j] = AvgEuclideanDistance(KindList[list(KindList.keys())[i]],KindList[list(KindList.keys())[j]])\n",
    "\n",
    "    row = np.argmin(mat)// len(KindList)\n",
    "    colom =  np.argmin(mat)% len(KindList)\n",
    "    KindList[list(KindList.keys())[row]] += KindList[list(KindList.keys())[colom]]\n",
    "    numlist[list(KindList.keys())[row]] += numlist[list(KindList.keys())[colom]]\n",
    "    print(numlist)\n",
    "    recorder.append(numlist.copy())\n",
    "    del numlist[list(KindList.keys())[colom]]  \n",
    "    del KindList[list(KindList.keys())[colom]]  \n",
    "\n",
    "    \n",
    "print(numlist)\n",
    "recorder.append(numlist)\n",
    "    \n",
    "Types = []\n",
    "for label in list(KindList.keys()):\n",
    "    Type = KindList[label]\n",
    "    labels = []\n",
    "    for item in Type:\n",
    "        for i in range(len(Data_watermelon)):\n",
    "            if np.sum(Data_watermelon[i]-item)==0:\n",
    "                labels.append(int(Label_watermelon[i][0]))\n",
    "                continue\n",
    "    Types.append(labels)        \n",
    "    \n",
    "acc = getAcc(Types) "
   ]
  },
  {
   "cell_type": "code",
   "execution_count": 437,
   "metadata": {},
   "outputs": [
    {
     "data": {
      "text/plain": [
       "[[1, 1, 1, 1, 1, 0, 0, 0, 0, 1, 0, 1, 1], [0, 0, 0, 0]]"
      ]
     },
     "execution_count": 437,
     "metadata": {},
     "output_type": "execute_result"
    }
   ],
   "source": [
    "Types"
   ]
  },
  {
   "cell_type": "code",
   "execution_count": 438,
   "metadata": {},
   "outputs": [
    {
     "data": {
      "text/plain": [
       "{0: [0, 16, 9, 5, 12, 6, 10, 13, 15, 3, 8, 14, 11], 1: [1, 4, 2, 7]}"
      ]
     },
     "execution_count": 438,
     "metadata": {},
     "output_type": "execute_result"
    }
   ],
   "source": [
    "numlist"
   ]
  },
  {
   "cell_type": "code",
   "execution_count": 439,
   "metadata": {},
   "outputs": [
    {
     "name": "stdout",
     "output_type": "stream",
     "text": [
      "0.5294117647058824\n"
     ]
    }
   ],
   "source": [
    "print(acc)"
   ]
  },
  {
   "cell_type": "code",
   "execution_count": 812,
   "metadata": {},
   "outputs": [],
   "source": [
    "def NcutDistance(SetA,SetB,sigma = 3):\n",
    "    \n",
    "    Set_all = np.array(SetA+SetB)\n",
    "    W_All = np.exp(-compute_squared(Set_all)/2/np.square(sigma))\n",
    "    times = np.zeros_like(W_All)\n",
    "    SetA_one = np.zeros((W_All.shape[0],1))\n",
    "    SetA_one[:len(SetA)]=1\n",
    "\n",
    "    SetB_one = np.zeros((W_All.shape[0],1))\n",
    "    SetB_one[-len(SetB):]=1\n",
    "\n",
    "    Cut = np.sum(W_All*SetA_one.dot(SetB_one.T))\n",
    "\n",
    "    D_All = np.diag(np.sum(W_All,axis=1))\n",
    "    VolA = np.sum(D_All.dot(SetA_one))\n",
    "    VolB = np.sum(D_All.dot(SetB_one))\n",
    "    L_All = W_All - D_All\n",
    "    L_All_Norm =  np.sqrt(np.linalg.inv(D_All)).dot(L_All).dot(np.sqrt(np.linalg.inv(D_All)))\n",
    "    NCut = Cut/VolA + Cut/VolB\n",
    "#     print(W_All[0])\n",
    "    return NCut"
   ]
  },
  {
   "cell_type": "code",
   "execution_count": 820,
   "metadata": {},
   "outputs": [
    {
     "name": "stdout",
     "output_type": "stream",
     "text": [
      "{0: [0], 1: [1], 2: [2], 3: [3], 4: [4], 5: [5, 12], 6: [6], 7: [7], 8: [8], 9: [9], 10: [10], 11: [11], 12: [12], 13: [13], 14: [14], 15: [15], 16: [16]}\n",
      "{0: [0], 1: [1], 2: [2], 3: [3], 4: [4], 5: [5, 12], 6: [6], 7: [7], 8: [8], 9: [9], 10: [10], 11: [11], 13: [13], 14: [14], 15: [15], 16: [16, 5, 12]}\n",
      "{0: [0], 1: [1], 2: [2], 3: [3], 4: [4], 6: [6], 7: [7], 8: [8], 9: [9], 10: [10], 11: [11], 13: [13], 14: [14], 15: [15], 16: [16, 5, 12, 0]}\n",
      "{1: [1], 2: [2], 3: [3], 4: [4], 6: [6], 7: [7], 8: [8], 9: [9], 10: [10], 11: [11], 13: [13], 14: [14], 15: [15], 16: [16, 5, 12, 0, 9]}\n",
      "{1: [1], 2: [2], 3: [3, 8], 4: [4], 6: [6], 7: [7], 8: [8], 10: [10], 11: [11], 13: [13], 14: [14], 15: [15], 16: [16, 5, 12, 0, 9]}\n",
      "{1: [1, 4], 2: [2], 3: [3, 8], 4: [4], 6: [6], 7: [7], 10: [10], 11: [11], 13: [13], 14: [14], 15: [15], 16: [16, 5, 12, 0, 9]}\n",
      "{1: [1, 4], 2: [2], 3: [3, 8, 14], 6: [6], 7: [7], 10: [10], 11: [11], 13: [13], 14: [14], 15: [15], 16: [16, 5, 12, 0, 9]}\n",
      "{1: [1, 4], 2: [2], 3: [3, 8, 14, 11], 6: [6], 7: [7], 10: [10], 11: [11], 13: [13], 15: [15], 16: [16, 5, 12, 0, 9]}\n",
      "{1: [1, 4], 2: [2], 3: [3, 8, 14, 11], 6: [6], 7: [7], 10: [10], 13: [13], 15: [15], 16: [16, 5, 12, 0, 9, 13]}\n",
      "{1: [1, 4], 2: [2], 3: [3, 8, 14, 11], 6: [6], 7: [7], 10: [10], 15: [15, 16, 5, 12, 0, 9, 13], 16: [16, 5, 12, 0, 9, 13]}\n",
      "{1: [1, 4], 2: [2], 3: [3, 8, 14, 11], 6: [6], 7: [7], 10: [10], 15: [15, 16, 5, 12, 0, 9, 13, 6]}\n",
      "{1: [1, 4], 2: [2], 3: [3, 8, 14, 11], 7: [7], 10: [10], 15: [15, 16, 5, 12, 0, 9, 13, 6, 10]}\n",
      "{1: [1, 4], 2: [2], 3: [3, 8, 14, 11], 7: [7], 15: [15, 16, 5, 12, 0, 9, 13, 6, 10, 2]}\n",
      "{1: [1, 4], 3: [3, 8, 14, 11], 7: [7], 15: [15, 16, 5, 12, 0, 9, 13, 6, 10, 2, 7]}\n",
      "{1: [1, 4], 3: [3, 8, 14, 11], 15: [15, 16, 5, 12, 0, 9, 13, 6, 10, 2, 7, 1, 4]}\n",
      "{3: [3, 8, 14, 11], 15: [15, 16, 5, 12, 0, 9, 13, 6, 10, 2, 7, 1, 4]}\n"
     ]
    }
   ],
   "source": [
    "numlist ={}  \n",
    "num = 0\n",
    "for item in Data_watermelon:\n",
    "    KindList[num] = [item]\n",
    "    numlist[num] = [num]\n",
    "    num+= 1\n",
    "\n",
    "# print(KindList.keys())\n",
    "# print(numlist.keys())\n",
    "recorder = []\n",
    "while len(KindList)>2:\n",
    "    mat = np.ones((len(KindList),len(KindList)))\n",
    "    mat *= -9999999\n",
    "    for i in range(len(KindList)):\n",
    "        for j in range(i+1,len(KindList)):\n",
    "            mat[i,j] = NcutDistance(KindList[list(KindList.keys())[i]],KindList[list(KindList.keys())[j]],8)\n",
    "    \n",
    "#     print(mat)\n",
    "\n",
    "    row = np.argmax(mat)// len(KindList)\n",
    "    colom =  np.argmax(mat)% len(KindList)\n",
    "#     print(np.argmax(mat))\n",
    "    KindList[list(KindList.keys())[row]] += KindList[list(KindList.keys())[colom]]\n",
    "    numlist[list(KindList.keys())[row]] += numlist[list(KindList.keys())[colom]]\n",
    "    print(numlist)\n",
    "    recorder.append(numlist.copy())\n",
    "    del numlist[list(KindList.keys())[colom]]  \n",
    "    del KindList[list(KindList.keys())[colom]]  \n",
    "print(numlist)\n",
    "\n",
    "recorder.append(numlist)\n",
    "    \n",
    "Types = []\n",
    "for label in list(KindList.keys()):\n",
    "    Type = KindList[label]\n",
    "    labels = []\n",
    "    for item in Type:\n",
    "        for i in range(len(Data_watermelon)):\n",
    "            if np.sum(Data_watermelon[i]-item)==0:\n",
    "                labels.append(int(Label_watermelon[i][0]))\n",
    "                continue\n",
    "    Types.append(labels)        \n",
    "    \n",
    "acc = getAcc(Types) "
   ]
  },
  {
   "cell_type": "code",
   "execution_count": 814,
   "metadata": {},
   "outputs": [
    {
     "data": {
      "text/plain": [
       "0.5294117647058824"
      ]
     },
     "execution_count": 814,
     "metadata": {},
     "output_type": "execute_result"
    }
   ],
   "source": [
    "acc"
   ]
  },
  {
   "cell_type": "code",
   "execution_count": 815,
   "metadata": {},
   "outputs": [
    {
     "data": {
      "text/plain": [
       "[[1, 1, 0, 0, 0, 1], [0, 1, 1, 0, 0, 0, 1, 0, 1, 0, 1]]"
      ]
     },
     "execution_count": 815,
     "metadata": {},
     "output_type": "execute_result"
    }
   ],
   "source": [
    "Types"
   ]
  },
  {
   "cell_type": "code",
   "execution_count": 830,
   "metadata": {},
   "outputs": [
    {
     "data": {
      "text/plain": [
       "{3: [3, 8, 14, 11], 15: [15, 16, 5, 12, 0, 9, 13, 6, 10, 2, 7, 1, 4]}"
      ]
     },
     "execution_count": 830,
     "metadata": {},
     "output_type": "execute_result"
    }
   ],
   "source": [
    "numlist"
   ]
  },
  {
   "cell_type": "code",
   "execution_count": 517,
   "metadata": {},
   "outputs": [
    {
     "data": {
      "text/plain": [
       "array([[0.        , 0.89737797, 0.4448435 , 0.9039807 ],\n",
       "       [0.89737797, 0.        , 0.6723295 , 1.1303473 ],\n",
       "       [0.4448435 , 0.6723295 , 0.        , 1.1280988 ],\n",
       "       [0.9039807 , 1.1303473 , 1.1280988 , 0.        ]], dtype=float32)"
      ]
     },
     "execution_count": 517,
     "metadata": {},
     "output_type": "execute_result"
    }
   ],
   "source": [
    "W_All"
   ]
  },
  {
   "cell_type": "code",
   "execution_count": 518,
   "metadata": {},
   "outputs": [
    {
     "data": {
      "text/plain": [
       "array([[0., 0., 1., 1.],\n",
       "       [0., 0., 1., 1.],\n",
       "       [0., 0., 0., 0.],\n",
       "       [0., 0., 0., 0.]])"
      ]
     },
     "execution_count": 518,
     "metadata": {},
     "output_type": "execute_result"
    }
   ],
   "source": [
    "SetA_one.dot(SetB_one.T)"
   ]
  },
  {
   "cell_type": "code",
   "execution_count": null,
   "metadata": {},
   "outputs": [],
   "source": []
  },
  {
   "cell_type": "code",
   "execution_count": null,
   "metadata": {},
   "outputs": [],
   "source": []
  },
  {
   "cell_type": "code",
   "execution_count": 523,
   "metadata": {},
   "outputs": [],
   "source": [
    "class Node():\n",
    "    def __init__(self):\n",
    "        pass"
   ]
  },
  {
   "cell_type": "code",
   "execution_count": null,
   "metadata": {},
   "outputs": [],
   "source": []
  },
  {
   "cell_type": "code",
   "execution_count": null,
   "metadata": {},
   "outputs": [],
   "source": []
  },
  {
   "cell_type": "code",
   "execution_count": 651,
   "metadata": {},
   "outputs": [],
   "source": [
    "# class InformationTree():\n",
    "#     def __init__(self):\n",
    "#         self.Nodes={}\n",
    "#         self.head = 0\n",
    "    \n",
    "#     def classify(self,data):\n",
    "#         pass\n",
    "    \n",
    "#     def Train(self,TrainData):\n",
    "#         classify_gain = []\n",
    "#         for name in list(Table_Root.columns)[:-1]:\n",
    "#             classify = Table_Root.groupby(name).size()\n",
    "#             Good = Table_Root[Table_Root['好瓜']=='是']\n",
    "#             Bad = Table_Root[Table_Root['好瓜']=='否']\n",
    "\n",
    "#             Good_p = len(Good)/len(Table_Root)\n",
    "#             Bad_p = len(Good)/len(Table_Root)\n",
    "#             EntD =  -Good_p*np.log2(Good_p) - Bad_p*np.log2(Bad_p)\n",
    "#             Ent = 0\n",
    "#             IV = 0\n",
    "#             new = 0\n",
    "#             for item in classify.index:\n",
    "#                 new = Table_Root[Table_Root[name]==item]\n",
    "#                 Good = new[new['好瓜']=='是']\n",
    "#                 Bad = new[new['好瓜']=='否']\n",
    "#                 Good_p = (len(Good)+1e-3)/(len(new))\n",
    "#                 Bad_p = (len(Bad)+1e-3)/(len(new))\n",
    "#                 Ent += (-Good_p*np.log2(Good_p) - Bad_p*np.log2(Bad_p))*len(new)/len(Table_Root)\n",
    "#                 rate = classify[item]/len(Table_Root)\n",
    "#                 IV += -rate*np.log2(rate)\n",
    "#             Gain = EntD - Ent\n",
    "#             Gain_ratio = Gain/(IV+1e-6)\n",
    "#             classify_gain.append(Gain_ratio)\n",
    "#             print(name,Gain_ratio)\n",
    "\n",
    "#         if max(classify_gain)>0:\n",
    "#             classify_name = list(Table_Root.columns)[classify_gain.index(max(classify_gain))]\n",
    "            \n",
    "#         classify = Table_Root.groupby(classify_name).size()\n",
    "#         self.Nodes[classify_name]={}\n",
    "#         self.head = classify_name\n",
    "#         for item in classify.index:\n",
    "#             new = Table_Root[Table_Root[name]==item]\n",
    "#             Good = new[new['好瓜']=='是']\n",
    "#             Bad = new[new['好瓜']=='否']\n",
    "#             if len(Bad) == 0:\n",
    "#                 continue\n",
    "#             elif len(Good) == 0:\n",
    "#                 continue\n",
    "#             else:\n",
    "#                 TrainOneNode(new,item)\n",
    "        \n",
    "    \n",
    "#     def TrainOneNode(self,Table_Root,RootName):\n",
    "#         classify_gain = []\n",
    "#         self.Nodes[RootName] = {}\n",
    "#         for name in list(Table_Root.columns)[:-1]:\n",
    "#             classify = Table_Root.groupby(name).size()\n",
    "#             Good = Table_Root[Table_Root['好瓜']=='是']\n",
    "#             Bad = Table_Root[Table_Root['好瓜']=='否']\n",
    "\n",
    "#             Good_p = len(Good)/len(Table_Root)\n",
    "#             Bad_p = len(Good)/len(Table_Root)\n",
    "#             EntD =  -Good_p*np.log2(Good_p) - Bad_p*np.log2(Bad_p)\n",
    "#             Ent = 0\n",
    "#             IV = 0\n",
    "#             new = 0\n",
    "#             for item in classify.index:\n",
    "#                 new = Table_Root[Table_Root[name]==item]\n",
    "#                 Good = new[new['好瓜']=='是']\n",
    "#                 Bad = new[new['好瓜']=='否']\n",
    "#                 Good_p = (len(Good)+1e-3)/(len(new))\n",
    "#                 Bad_p = (len(Bad)+1e-3)/(len(new))\n",
    "#                 Ent += (-Good_p*np.log2(Good_p) - Bad_p*np.log2(Bad_p))*len(new)/len(Table_Root)\n",
    "#                 rate = classify[item]/len(Table_Root)\n",
    "#                 IV += -rate*np.log2(rate)\n",
    "#             Gain = EntD - Ent\n",
    "#             Gain_ratio = Gain/(IV+1e-6)\n",
    "#             classify_gain.append(Gain_ratio)\n",
    "#             print(name,Gain_ratio)\n",
    "\n",
    "#         if max(classify_gain)>0:\n",
    "#             classify_name = list(Table_Root.columns)[classify_gain.index(max(classify_gain))]\n",
    "            \n",
    "#         classify = Table_Root.groupby(classify_name).size()\n",
    "#         for item in classify.index:\n",
    "#             new = Table_Root[Table_Root[name]==item]\n",
    "#             Good = new[new['好瓜']=='是']\n",
    "#             Bad = new[new['好瓜']=='否']\n",
    "#             if len(Bad) == 0:\n",
    "#                 continue\n",
    "#             elif len(Good) == 0:\n",
    "#                 continue\n",
    "#             else:\n",
    "#                 TrainOneNode(new)"
   ]
  },
  {
   "cell_type": "code",
   "execution_count": 560,
   "metadata": {},
   "outputs": [],
   "source": [
    "tree = InformationTree"
   ]
  },
  {
   "cell_type": "code",
   "execution_count": 4,
   "metadata": {},
   "outputs": [],
   "source": [
    "watermalon = pd.read_csv(\"watermalon.csv\",engine=\"python\")\n",
    "Treetrainset, Treetestset = getWaterMelonDe(watermalon,rate=0.7)"
   ]
  },
  {
   "cell_type": "code",
   "execution_count": 600,
   "metadata": {},
   "outputs": [],
   "source": [
    "def TreeNode(Table_Root):\n",
    "    classify_gain = []\n",
    "    for name in list(Table_Root.columns)[:-1]:\n",
    "        classify = Table_Root.groupby(name).size()\n",
    "        Good = Table_Root[Table_Root['好瓜']=='是']\n",
    "        Bad = Table_Root[Table_Root['好瓜']=='否']\n",
    "        if len(Good)==0 or len(Bad)==0:\n",
    "            break\n",
    "        Good_p = len(Good)/len(Table_Root)\n",
    "        Bad_p = len(Good)/len(Table_Root)\n",
    "        EntD =  -Good_p*np.log2(Good_p) - Bad_p*np.log2(Bad_p)\n",
    "        Ent = 0\n",
    "        IV = 0\n",
    "        new = 0\n",
    "        for item in classify.index:\n",
    "            new = Table_Root[Table_Root[name]==item]\n",
    "            Good = new[new['好瓜']=='是']\n",
    "            Bad = new[new['好瓜']=='否']\n",
    "            Good_p = (len(Good)+1e-3)/(len(new))\n",
    "            Bad_p = (len(Bad)+1e-3)/(len(new))\n",
    "            Ent += (-Good_p*np.log2(Good_p) - Bad_p*np.log2(Bad_p))*len(new)/len(Table_Root)\n",
    "            rate = classify[item]/len(Table_Root)\n",
    "            IV += -rate*np.log2(rate)\n",
    "        Gain = EntD - Ent\n",
    "        Gain_ratio = Gain/(IV+1e-6)\n",
    "        classify_gain.append(Gain_ratio)\n",
    "#         print(name,Gain_ratio)\n",
    "    if classify_gain:\n",
    "        if max(classify_gain)>0:\n",
    "            classify_name = list(Table_Root.columns)[classify_gain.index(max(classify_gain))]\n",
    "\n",
    "    classify = Table_Root.groupby(classify_name).size()\n",
    "    print(classify_name)\n",
    "    for item in classify.index:\n",
    "        new = Table_Root[Table_Root[classify_name]==item]\n",
    "#         print(new)\n",
    "\n",
    "        Good = new[new['好瓜']=='是']\n",
    "        Bad = new[new['好瓜']=='否']    \n",
    "        if len(Bad) == 0:\n",
    "            print(item,'Good')\n",
    "            continue\n",
    "        elif len(Good) == 0:\n",
    "            print(item,'Bad')\n",
    "            continue\n",
    "        else:\n",
    "            print(item)\n",
    "            if len(new)>0:\n",
    "                OneNode(new.drop([classify_name],axis=1))    \n",
    "            \n",
    "    return"
   ]
  },
  {
   "cell_type": "code",
   "execution_count": null,
   "metadata": {},
   "outputs": [],
   "source": []
  },
  {
   "cell_type": "code",
   "execution_count": 603,
   "metadata": {},
   "outputs": [
    {
     "name": "stdout",
     "output_type": "stream",
     "text": [
      "模糊 Bad\n",
      "清晰\n",
      "触感\n",
      "硬滑 Good\n",
      "软粘\n",
      "色泽\n",
      "乌黑 Bad\n",
      "青绿\n",
      "根蒂\n",
      "硬挺 Bad\n",
      "稍蜷 Good\n",
      "稍糊 Bad\n"
     ]
    }
   ],
   "source": [
    "classify_gain = []\n",
    "for name in list(Table_Root.columns)[:-1]:\n",
    "    classify = Table_Root.groupby(name).size()\n",
    "    Good = Table_Root[Table_Root['好瓜']=='是']\n",
    "    Bad = Table_Root[Table_Root['好瓜']=='否']\n",
    "    if len(Good)==0 or len(Bad)==0:\n",
    "        break\n",
    "    Good_p = len(Good)/len(Table_Root)\n",
    "    Bad_p = len(Good)/len(Table_Root)\n",
    "    EntD =  -Good_p*np.log2(Good_p) - Bad_p*np.log2(Bad_p)\n",
    "    Ent = 0\n",
    "    IV = 0\n",
    "    new = 0\n",
    "    for item in classify.index:\n",
    "        new = Table_Root[Table_Root[name]==item]\n",
    "        Good = new[new['好瓜']=='是']\n",
    "        Bad = new[new['好瓜']=='否']\n",
    "        Good_p = (len(Good)+1e-3)/(len(new))\n",
    "        Bad_p = (len(Bad)+1e-3)/(len(new))\n",
    "        Ent += (-Good_p*np.log2(Good_p) - Bad_p*np.log2(Bad_p))*len(new)/len(Table_Root)\n",
    "        rate = classify[item]/len(Table_Root)\n",
    "        IV += -rate*np.log2(rate)\n",
    "    Gain = EntD - Ent\n",
    "    Gain_ratio = Gain/(IV+1e-6)\n",
    "    classify_gain.append(Gain_ratio)\n",
    "#     print(name,Gain_ratio)\n",
    "if classify_gain:\n",
    "    if max(classify_gain)>0:\n",
    "        classify_name = list(Table_Root.columns)[classify_gain.index(max(classify_gain))]\n",
    "        \n",
    "classify = Table_Root.groupby(classify_name).size()\n",
    "\n",
    "for item in classify.index:\n",
    "#     print(item)\n",
    "    new = Table_Root[Table_Root[classify_name]==item]\n",
    "    Good = new[new['好瓜']=='是']\n",
    "    Bad = new[new['好瓜']=='否']\n",
    "    if len(Bad) == 0:\n",
    "        print(item,'Good')\n",
    "        continue\n",
    "    elif len(Good) == 0:\n",
    "        print(item,'Bad')\n",
    "        continue\n",
    "    else:\n",
    "        print(item)\n",
    "        TreeNode(new.drop([classify_name],axis=1))\n",
    "        continue"
   ]
  },
  {
   "cell_type": "code",
   "execution_count": 198,
   "metadata": {},
   "outputs": [],
   "source": [
    "class InfoTree():\n",
    "    def __init__(self):\n",
    "        self.framework = {}\n",
    "        \n",
    "    def train(self,table):\n",
    "        self.framework = self.train_step(table)\n",
    "    \n",
    "    def getEnt(self,table,divideName):\n",
    "        \n",
    "        diff_type = table.groupby(divideName).size()\n",
    "        p = table[table['好瓜']=='是']\n",
    "        n = table[table['好瓜']=='否']\n",
    "        p_p = (p.size+1e-3)/table.size\n",
    "        p_n = (n.size+1e-3)/table.size\n",
    "        EntD =  -(p_p*np.log(p_p) + p_n*np.log(p_n))\n",
    "        Ent = 0;IV = 0\n",
    "        \n",
    "        for name in diff_type.index:\n",
    "            child = table[table[divideName]==name]\n",
    "            p = child[child['好瓜']=='是']\n",
    "            n = child[child['好瓜']=='否']\n",
    "            p_p = (len(p)+1e-3)/child.size\n",
    "            p_n = (n.size+1e-3)/child.size\n",
    "            \n",
    "            Ent += -(p_p*np.log2(p_p) + p_n*np.log2(p_n))*child.size/table.size\n",
    "            rate = diff_type[name]/len(table)\n",
    "            IV += -rate*np.log2(rate)\n",
    "            \n",
    "        return (EntD - Ent)/IV\n",
    "    \n",
    "    def train_step(self,fathertable):\n",
    "        names = fathertable.drop(['好瓜'],axis=1).columns\n",
    "        Gain = []\n",
    "        for name in names:\n",
    "            Gain.append(self.getEnt(fathertable,name))\n",
    "\n",
    "        pos = np.argmax(Gain)\n",
    "        keyname = names[pos]\n",
    "            \n",
    "        ChildNode = {}\n",
    "        classify = fathertable.groupby(keyname).size()\n",
    "        for character in classify.index:\n",
    "            ChildTable = fathertable[fathertable[keyname]==character]\n",
    "            p = ChildTable[ChildTable['好瓜']=='是']\n",
    "            n = ChildTable[ChildTable['好瓜']=='否']    \n",
    "            if n.size == 0:\n",
    "                ChildNode[character] = 1\n",
    "            elif p.size == 0:\n",
    "                ChildNode[character] = 0\n",
    "            else:\n",
    "                ChildTable = ChildTable.drop([keyname],axis=1)\n",
    "                ChildNode[character] = self.train_step(ChildTable)\n",
    "        return {keyname:ChildNode}"
   ]
  },
  {
   "cell_type": "code",
   "execution_count": 199,
   "metadata": {},
   "outputs": [
    {
     "data": {
      "text/plain": [
       "dict"
      ]
     },
     "execution_count": 199,
     "metadata": {},
     "output_type": "execute_result"
    }
   ],
   "source": [
    "type({}) "
   ]
  },
  {
   "cell_type": "code",
   "execution_count": 200,
   "metadata": {},
   "outputs": [],
   "source": [
    "np.random.seed(5)\n",
    "watermalon = pd.read_csv(\"watermalon.csv\",engine=\"python\")\n",
    "Treetrainset, Treetestset = getWaterMelonDe(watermalon,rate=0.7)"
   ]
  },
  {
   "cell_type": "code",
   "execution_count": 201,
   "metadata": {},
   "outputs": [],
   "source": [
    "tree = InfoTree()"
   ]
  },
  {
   "cell_type": "code",
   "execution_count": 202,
   "metadata": {},
   "outputs": [],
   "source": [
    "tree.train(Treetrainset)"
   ]
  },
  {
   "cell_type": "code",
   "execution_count": 204,
   "metadata": {},
   "outputs": [
    {
     "data": {
      "text/plain": [
       "{'纹理': {'模糊': 0, '清晰': {'敲声': {'沉闷': 1, '浊响': 1, '清脆': 0}}, '稍糊': 0}}"
      ]
     },
     "execution_count": 204,
     "metadata": {},
     "output_type": "execute_result"
    }
   ],
   "source": [
    "tree.framework"
   ]
  },
  {
   "cell_type": "code",
   "execution_count": 190,
   "metadata": {},
   "outputs": [
    {
     "data": {
      "text/html": [
       "<div>\n",
       "<style scoped>\n",
       "    .dataframe tbody tr th:only-of-type {\n",
       "        vertical-align: middle;\n",
       "    }\n",
       "\n",
       "    .dataframe tbody tr th {\n",
       "        vertical-align: top;\n",
       "    }\n",
       "\n",
       "    .dataframe thead th {\n",
       "        text-align: right;\n",
       "    }\n",
       "</style>\n",
       "<table border=\"1\" class=\"dataframe\">\n",
       "  <thead>\n",
       "    <tr style=\"text-align: right;\">\n",
       "      <th></th>\n",
       "      <th>色泽</th>\n",
       "      <th>根蒂</th>\n",
       "      <th>敲声</th>\n",
       "      <th>纹理</th>\n",
       "      <th>脐部</th>\n",
       "      <th>触感</th>\n",
       "      <th>好瓜</th>\n",
       "    </tr>\n",
       "  </thead>\n",
       "  <tbody>\n",
       "    <tr>\n",
       "      <th>11</th>\n",
       "      <td>青绿</td>\n",
       "      <td>蜷缩</td>\n",
       "      <td>浊响</td>\n",
       "      <td>清晰</td>\n",
       "      <td>凹陷</td>\n",
       "      <td>硬滑</td>\n",
       "      <td>是</td>\n",
       "    </tr>\n",
       "    <tr>\n",
       "      <th>12</th>\n",
       "      <td>浅白</td>\n",
       "      <td>蜷缩</td>\n",
       "      <td>浊响</td>\n",
       "      <td>模糊</td>\n",
       "      <td>平坦</td>\n",
       "      <td>硬滑</td>\n",
       "      <td>否</td>\n",
       "    </tr>\n",
       "    <tr>\n",
       "      <th>13</th>\n",
       "      <td>乌黑</td>\n",
       "      <td>稍蜷</td>\n",
       "      <td>浊响</td>\n",
       "      <td>稍糊</td>\n",
       "      <td>稍凹</td>\n",
       "      <td>软粘</td>\n",
       "      <td>是</td>\n",
       "    </tr>\n",
       "    <tr>\n",
       "      <th>14</th>\n",
       "      <td>浅白</td>\n",
       "      <td>稍蜷</td>\n",
       "      <td>沉闷</td>\n",
       "      <td>稍糊</td>\n",
       "      <td>凹陷</td>\n",
       "      <td>硬滑</td>\n",
       "      <td>否</td>\n",
       "    </tr>\n",
       "    <tr>\n",
       "      <th>15</th>\n",
       "      <td>乌黑</td>\n",
       "      <td>稍蜷</td>\n",
       "      <td>浊响</td>\n",
       "      <td>清晰</td>\n",
       "      <td>稍凹</td>\n",
       "      <td>软粘</td>\n",
       "      <td>否</td>\n",
       "    </tr>\n",
       "    <tr>\n",
       "      <th>16</th>\n",
       "      <td>青绿</td>\n",
       "      <td>蜷缩</td>\n",
       "      <td>沉闷</td>\n",
       "      <td>清晰</td>\n",
       "      <td>凹陷</td>\n",
       "      <td>硬滑</td>\n",
       "      <td>是</td>\n",
       "    </tr>\n",
       "  </tbody>\n",
       "</table>\n",
       "</div>"
      ],
      "text/plain": [
       "    色泽  根蒂  敲声  纹理  脐部  触感 好瓜\n",
       "11  青绿  蜷缩  浊响  清晰  凹陷  硬滑  是\n",
       "12  浅白  蜷缩  浊响  模糊  平坦  硬滑  否\n",
       "13  乌黑  稍蜷  浊响  稍糊  稍凹  软粘  是\n",
       "14  浅白  稍蜷  沉闷  稍糊  凹陷  硬滑  否\n",
       "15  乌黑  稍蜷  浊响  清晰  稍凹  软粘  否\n",
       "16  青绿  蜷缩  沉闷  清晰  凹陷  硬滑  是"
      ]
     },
     "execution_count": 190,
     "metadata": {},
     "output_type": "execute_result"
    }
   ],
   "source": [
    "Treetestset"
   ]
  },
  {
   "cell_type": "code",
   "execution_count": 248,
   "metadata": {},
   "outputs": [],
   "source": [
    "predict = []\n",
    "for _,row in Treetestset.iterrows():\n",
    "    chara = tree.framework\n",
    "    flag = True\n",
    "    while flag:\n",
    "        key = list(chara.keys())[0]\n",
    "        if not (row[key] in chara[key].keys()):\n",
    "            predict.append(0)\n",
    "            flag = False\n",
    "        else:\n",
    "            if type(chara[key][row[key]]) ==  type(1):\n",
    "                predict.append(chara[key][row[key]])\n",
    "                flag = False\n",
    "            else:\n",
    "                chara = chara[key][row[key]]\n",
    "acc = "
   ]
  },
  {
   "cell_type": "code",
   "execution_count": 249,
   "metadata": {},
   "outputs": [
    {
     "data": {
      "text/plain": [
       "[1, 0, 0, 0, 1, 1]"
      ]
     },
     "execution_count": 249,
     "metadata": {},
     "output_type": "execute_result"
    }
   ],
   "source": [
    "predict"
   ]
  },
  {
   "cell_type": "code",
   "execution_count": 103,
   "metadata": {},
   "outputs": [
    {
     "data": {
      "text/html": [
       "<div>\n",
       "<style scoped>\n",
       "    .dataframe tbody tr th:only-of-type {\n",
       "        vertical-align: middle;\n",
       "    }\n",
       "\n",
       "    .dataframe tbody tr th {\n",
       "        vertical-align: top;\n",
       "    }\n",
       "\n",
       "    .dataframe thead th {\n",
       "        text-align: right;\n",
       "    }\n",
       "</style>\n",
       "<table border=\"1\" class=\"dataframe\">\n",
       "  <thead>\n",
       "    <tr style=\"text-align: right;\">\n",
       "      <th></th>\n",
       "      <th>色泽</th>\n",
       "      <th>根蒂</th>\n",
       "      <th>敲声</th>\n",
       "      <th>纹理</th>\n",
       "      <th>脐部</th>\n",
       "      <th>触感</th>\n",
       "      <th>好瓜</th>\n",
       "    </tr>\n",
       "  </thead>\n",
       "  <tbody>\n",
       "    <tr>\n",
       "      <th>11</th>\n",
       "      <td>乌黑</td>\n",
       "      <td>稍蜷</td>\n",
       "      <td>浊响</td>\n",
       "      <td>清晰</td>\n",
       "      <td>稍凹</td>\n",
       "      <td>软粘</td>\n",
       "      <td>否</td>\n",
       "    </tr>\n",
       "    <tr>\n",
       "      <th>12</th>\n",
       "      <td>青绿</td>\n",
       "      <td>稍蜷</td>\n",
       "      <td>浊响</td>\n",
       "      <td>稍糊</td>\n",
       "      <td>凹陷</td>\n",
       "      <td>硬滑</td>\n",
       "      <td>否</td>\n",
       "    </tr>\n",
       "    <tr>\n",
       "      <th>13</th>\n",
       "      <td>乌黑</td>\n",
       "      <td>稍蜷</td>\n",
       "      <td>浊响</td>\n",
       "      <td>清晰</td>\n",
       "      <td>稍凹</td>\n",
       "      <td>硬滑</td>\n",
       "      <td>是</td>\n",
       "    </tr>\n",
       "    <tr>\n",
       "      <th>14</th>\n",
       "      <td>乌黑</td>\n",
       "      <td>蜷缩</td>\n",
       "      <td>沉闷</td>\n",
       "      <td>清晰</td>\n",
       "      <td>凹陷</td>\n",
       "      <td>硬滑</td>\n",
       "      <td>是</td>\n",
       "    </tr>\n",
       "    <tr>\n",
       "      <th>15</th>\n",
       "      <td>浅白</td>\n",
       "      <td>蜷缩</td>\n",
       "      <td>浊响</td>\n",
       "      <td>模糊</td>\n",
       "      <td>平坦</td>\n",
       "      <td>软粘</td>\n",
       "      <td>否</td>\n",
       "    </tr>\n",
       "    <tr>\n",
       "      <th>16</th>\n",
       "      <td>青绿</td>\n",
       "      <td>蜷缩</td>\n",
       "      <td>沉闷</td>\n",
       "      <td>稍糊</td>\n",
       "      <td>稍凹</td>\n",
       "      <td>硬滑</td>\n",
       "      <td>否</td>\n",
       "    </tr>\n",
       "  </tbody>\n",
       "</table>\n",
       "</div>"
      ],
      "text/plain": [
       "    色泽  根蒂  敲声  纹理  脐部  触感 好瓜\n",
       "11  乌黑  稍蜷  浊响  清晰  稍凹  软粘  否\n",
       "12  青绿  稍蜷  浊响  稍糊  凹陷  硬滑  否\n",
       "13  乌黑  稍蜷  浊响  清晰  稍凹  硬滑  是\n",
       "14  乌黑  蜷缩  沉闷  清晰  凹陷  硬滑  是\n",
       "15  浅白  蜷缩  浊响  模糊  平坦  软粘  否\n",
       "16  青绿  蜷缩  沉闷  稍糊  稍凹  硬滑  否"
      ]
     },
     "execution_count": 103,
     "metadata": {},
     "output_type": "execute_result"
    }
   ],
   "source": [
    "Treetestset['好瓜']"
   ]
  },
  {
   "cell_type": "code",
   "execution_count": 227,
   "metadata": {},
   "outputs": [
    {
     "data": {
      "text/plain": [
       "True"
      ]
     },
     "execution_count": 227,
     "metadata": {},
     "output_type": "execute_result"
    }
   ],
   "source": [
    "'纹理' in tree.framework.keys()"
   ]
  },
  {
   "cell_type": "code",
   "execution_count": null,
   "metadata": {},
   "outputs": [],
   "source": []
  }
 ],
 "metadata": {
  "kernelspec": {
   "display_name": "Torch",
   "language": "python",
   "name": "pytorch-gpu"
  },
  "language_info": {
   "codemirror_mode": {
    "name": "ipython",
    "version": 3
   },
   "file_extension": ".py",
   "mimetype": "text/x-python",
   "name": "python",
   "nbconvert_exporter": "python",
   "pygments_lexer": "ipython3",
   "version": "3.6.4"
  },
  "toc": {
   "base_numbering": 1,
   "nav_menu": {},
   "number_sections": true,
   "sideBar": true,
   "skip_h1_title": false,
   "title_cell": "Table of Contents",
   "title_sidebar": "Contents",
   "toc_cell": true,
   "toc_position": {},
   "toc_section_display": true,
   "toc_window_display": false
  }
 },
 "nbformat": 4,
 "nbformat_minor": 2
}
